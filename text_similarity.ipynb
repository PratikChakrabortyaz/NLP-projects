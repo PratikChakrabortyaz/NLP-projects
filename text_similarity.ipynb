{
 "cells": [
  {
   "cell_type": "markdown",
   "metadata": {},
   "source": [
    "Importing Counter to keep track of frequency of words\n",
    "Importing math for mathematical operations"
   ]
  },
  {
   "cell_type": "code",
   "execution_count": null,
   "metadata": {},
   "outputs": [],
   "source": [
    "from collections import Counter\n",
    "import math"
   ]
  },
  {
   "cell_type": "markdown",
   "metadata": {},
   "source": [
    "Function to read from the text files"
   ]
  },
  {
   "cell_type": "code",
   "execution_count": null,
   "metadata": {},
   "outputs": [],
   "source": [
    "def read_text_file(path):\n",
    "    with open(path,'r') as f:\n",
    "        return f.read()"
   ]
  },
  {
   "cell_type": "markdown",
   "metadata": {},
   "source": [
    "Function to tokenize the text to words:\n",
    "1. Splitting and putting words in lowercase\n",
    "2. Removing Punctuation"
   ]
  },
  {
   "cell_type": "code",
   "execution_count": null,
   "metadata": {},
   "outputs": [],
   "source": [
    "def tokenize(text):\n",
    "    words=text.lower.split()\n",
    "    words=[word.strip(\".,?\") for word in words]\n",
    "    return words"
   ]
  },
  {
   "cell_type": "markdown",
   "metadata": {},
   "source": [
    "Function to calculate TF(term frequency)\n",
    "Calculates frequency of each word and stores it in a dictionary"
   ]
  },
  {
   "cell_type": "code",
   "execution_count": null,
   "metadata": {},
   "outputs": [],
   "source": [
    "def tf_calc(text):\n",
    "    tokens=tokenize(text)\n",
    "    word_count=Counter(tokens)\n",
    "    total=len(tokens)\n",
    "    tf={word:count/total for word,count in word_count.items() }\n",
    "    return tf"
   ]
  },
  {
   "cell_type": "markdown",
   "metadata": {},
   "source": [
    "Function to calculate IDF(inverse document frequency)"
   ]
  },
  {
   "cell_type": "code",
   "execution_count": null,
   "metadata": {},
   "outputs": [],
   "source": [
    "def idf_calc(docs):\n",
    "    doc_freq=Counter()\n",
    "    for doc in docs:\n",
    "        tokens=set(tokenize(doc))\n",
    "        doc_freq.update(tokens)\n",
    "    doc_num=len(docs)\n",
    "    idf={word:math.log(doc_num/(1+freq)) for word,freq in doc_freq.items()}\n",
    "    return idf"
   ]
  },
  {
   "cell_type": "markdown",
   "metadata": {},
   "source": [
    "Function to calculate TF-IDF(Term Frequency=Inverse Document Frequency)"
   ]
  },
  {
   "cell_type": "code",
   "execution_count": null,
   "metadata": {},
   "outputs": [],
   "source": [
    "def tfidf_calc(text,idf):\n",
    "    tf=tf_calc(text)\n",
    "    tfidf={word:tf[word]*idf[word] for word in tf}\n",
    "    return tfidf\n"
   ]
  },
  {
   "cell_type": "markdown",
   "metadata": {},
   "source": [
    "Calculate cosine similarity between the two TF-IDF vectors"
   ]
  },
  {
   "cell_type": "code",
   "execution_count": null,
   "metadata": {},
   "outputs": [],
   "source": [
    "def cosine_similarity(tfidf1,tfidf2):\n",
    "    dot_product=sum(tfidf1[word]*tfidf2[word] for word in set(tfidf1)& set(tfidf2))\n",
    "    mag1=math.sqrt(sum(value**2 for value in tfidf1.values()))\n",
    "    mag2=math.sqrt(sum(value**2 for value in tfidf2.values()))\n",
    "    similarity=dot_product/(mag1*mag2)\n",
    "    return similarity"
   ]
  },
  {
   "cell_type": "markdown",
   "metadata": {},
   "source": [
    "Calling other functions"
   ]
  },
  {
   "cell_type": "code",
   "execution_count": null,
   "metadata": {},
   "outputs": [],
   "source": [
    "f1=\"t1.txt\"\n",
    "f2=\"t2.txt\"\n",
    "text1=read_text_file(f1)\n",
    "text2=read_text_file(f2)\n",
    "print(f\"First text contents:\\n {text1}\")\n",
    "print(f\"Second text contents:\\n {text2}\")"
   ]
  },
  {
   "cell_type": "code",
   "execution_count": null,
   "metadata": {},
   "outputs": [],
   "source": [
    "docs=[text1,text2]\n",
    "idf=idf_calc(docs)\n",
    "print(f\"IDF is:\\n {idf}\")"
   ]
  },
  {
   "cell_type": "code",
   "execution_count": null,
   "metadata": {},
   "outputs": [],
   "source": [
    "tfidf1=tfidf_calc(text1,idf)\n",
    "tfidf2=tfidf_calc(text2,idf)\n",
    "print(f\"TF-IDF for 1st text is:\\n {tfidf1}\")\n",
    "print(f\"TF-IDF for 2nd text is:\\n {tfidf2}\")\n",
    "      "
   ]
  },
  {
   "cell_type": "code",
   "execution_count": null,
   "metadata": {},
   "outputs": [],
   "source": [
    "similarity=cosine_similarity(tfidf1,tfidf2)\n",
    "print(f\"Cosine similarity between the 2 texts:\\n {similarity}\")"
   ]
  }
 ],
 "metadata": {
  "kernelspec": {
   "display_name": "Python 3",
   "language": "python",
   "name": "python3"
  },
  "language_info": {
   "name": "python",
   "version": "3.11.0"
  }
 },
 "nbformat": 4,
 "nbformat_minor": 2
}
